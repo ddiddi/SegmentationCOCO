{
 "cells": [
  {
   "cell_type": "code",
   "execution_count": 18,
   "metadata": {},
   "outputs": [],
   "source": [
    "%matplotlib inline\n",
    "from pycocotools.coco import COCO\n",
    "import numpy as np\n",
    "import skimage.io as io\n",
    "import matplotlib.pyplot as plt\n",
    "import pylab\n",
    "import cv2\n",
    "from PIL import Image\n",
    "import csv\n",
    "pylab.rcParams['figure.figsize'] = (8.0, 10.0)"
   ]
  },
  {
   "cell_type": "code",
   "execution_count": null,
   "metadata": {},
   "outputs": [],
   "source": []
  },
  {
   "cell_type": "code",
   "execution_count": 19,
   "metadata": {},
   "outputs": [],
   "source": [
    "dataDir='..'\n",
    "dataTypeVal='val2014'\n",
    "annFileVal='{}/annotations/instances_{}.json'.format(dataDir,dataTypeVal)\n",
    "dataTypeTrain='train2014'\n",
    "annFileTrain='{}/annotations/instances_{}.json'.format(dataDir,dataTypeTrain)"
   ]
  },
  {
   "cell_type": "code",
   "execution_count": 20,
   "metadata": {
    "scrolled": true
   },
   "outputs": [
    {
     "name": "stdout",
     "output_type": "stream",
     "text": [
      "loading annotations into memory...\n",
      "Done (t=8.35s)\n",
      "creating index...\n",
      "index created!\n",
      "loading annotations into memory...\n",
      "Done (t=16.09s)\n",
      "creating index...\n",
      "index created!\n"
     ]
    }
   ],
   "source": [
    "# initialize COCO api for instance annotations\n",
    "cocoVal=COCO(annFileVal)\n",
    "cocoTrain=COCO(annFileTrain)"
   ]
  },
  {
   "cell_type": "code",
   "execution_count": 12,
   "metadata": {
    "scrolled": true
   },
   "outputs": [
    {
     "name": "stdout",
     "output_type": "stream",
     "text": [
      "45174\n",
      "\n",
      "8606\n",
      "\n",
      "2243\n",
      "\n",
      "2241\n",
      "\n",
      "3041\n",
      "\n",
      "1518\n",
      "\n",
      "668\n",
      "\n",
      "1324\n",
      "\n",
      "2537\n",
      "\n",
      "3097\n",
      "\n",
      "5028\n",
      "\n",
      "1171\n",
      "\n",
      "8950\n",
      "\n",
      "8378\n",
      "\n"
     ]
    }
   ],
   "source": [
    "\n",
    "\n",
    "\n",
    "category_list = [1,3,5,16,18,22,23,24,48,49,51,53,62,67]\n",
    "for i in category_list:\n",
    "    imgIdTrain = cocoTrain.getImgIds(catIds=i)\n",
    "    print(len(imgIdTrain))\n",
    "    print"
   ]
  },
  {
   "cell_type": "code",
   "execution_count": 21,
   "metadata": {},
   "outputs": [],
   "source": [
    "# load and display image\n",
    "# I = io.imread('%s/images/%s/%s'%(dataDir,dataType,img['file_name']))\n",
    "# use url to load image\n",
    "\n",
    "file_list = []\n",
    "with open('benchmark_images.csv') as csvfile:\n",
    "    readCSV = csv.reader(csvfile, delimiter=',')\n",
    "    for row in readCSV:\n",
    "        file_list.append([row[0],row[2].split('_')[1],row[2]])\n"
   ]
  },
  {
   "cell_type": "code",
   "execution_count": 16,
   "metadata": {},
   "outputs": [
    {
     "name": "stdout",
     "output_type": "stream",
     "text": [
      "()\n"
     ]
    }
   ],
   "source": [
    "print()"
   ]
  },
  {
   "cell_type": "code",
   "execution_count": 22,
   "metadata": {},
   "outputs": [
    {
     "name": "stdout",
     "output_type": "stream",
     "text": [
      "1296\n",
      "1504\n",
      "2800\n"
     ]
    }
   ],
   "source": [
    "\n",
    "countV = 0\n",
    "countT = 0\n",
    "counter = 0\n",
    "itera = 0\n",
    "for i in file_list:\n",
    "    try:\n",
    "        if i[1] == 'train2014':\n",
    "            try:\n",
    "                imgIdTrain = cocoTrain.getImgIds(int(i[0]))\n",
    "                imgTrain = cocoTrain.loadImgs(imgIdTrain)[0]\n",
    "                I = io.imread(imgTrain['coco_url'])\n",
    "                annIds = cocoTrain.getAnnIds(imgIds=imgTrain['id'])\n",
    "                anns = cocoTrain.loadAnns(annIds)\n",
    "                number_of_masks =  min(len(anns),3)\n",
    "                masks = [[]*number_of_masks]\n",
    "                for j in range(number_of_masks):\n",
    "                    masks[j] = cocoTrain.annToMask(anns[j])\n",
    "            except:\n",
    "                countT = countT + 1\n",
    "        else:\n",
    "            try:\n",
    "                imgIdVal = cocoVal.getImgIds(int(i[0]))\n",
    "                imgVal = cocoVal.loadImgs(imgIdVal)[0]\n",
    "                I = io.imread(imgVal['coco_url'])\n",
    "                annIds = cocoVal.getAnnIds(imgIds=imgVal['id'])\n",
    "                anns = cocoVal.loadAnns(annIds)\n",
    "                number_of_masks =  min(len(anns),3)\n",
    "                masks = [[]*number_of_masks]\n",
    "                for j in range(number_of_masks):\n",
    "                    masks[j] = cocoVal.annToMask(anns[j])\n",
    "            except:\n",
    "                countV = countV + 1    \n",
    "                \n",
    "        for m in range(number_of_masks):\n",
    "            for r in range(masks[m].shape[0]):\n",
    "                for c in range(masks[m].shape[1]):\n",
    "                    if mask[r][c] == 0:\n",
    "                        I[r][c] = (0,0,0)\n",
    "            im = Image.fromarray(I)\n",
    "            file_string = \"maskBlack\"+str(m)+\"_\"+str(i[2])\n",
    "            im.save(file_string)\n",
    "    except:\n",
    "        counter = counter + 1\n",
    "print countT\n",
    "print countV\n",
    "print counter"
   ]
  },
  {
   "cell_type": "code",
   "execution_count": null,
   "metadata": {},
   "outputs": [],
   "source": [
    "# load and display instance annotations\n",
    "plt.imshow(I); plt.axis('off')\n",
    "annIds = coco.getAnnIds(imgIds=img['id'])\n",
    "anns = coco.loadAnns(annIds)\n",
    "#coco.showAnns(anns)\n",
    "mask = coco.annToMask(anns[0])\n",
    "plt.imshow(mask)"
   ]
  },
  {
   "cell_type": "code",
   "execution_count": 84,
   "metadata": {},
   "outputs": [
    {
     "data": {
      "image/png": "[encoded data removed]",
      "text/plain": [
       "<Figure size 576x720 with 1 Axes>"
      ]
     },
     "metadata": {
      "needs_background": "light"
     },
     "output_type": "display_data"
    }
   ],
   "source": [
    "for i in range(mask.shape[0]):\n",
    "    for j in range(mask.shape[1]):\n",
    "        if mask[i][j] == 0:\n",
    "            I[i][j] = (0,0,0)\n",
    "            \n",
    "plt.imshow(I)\n",
    "im = Image.fromarray(I)\n",
    "im.save(\"master.jpeg\")"
   ]
  },
  {
   "cell_type": "code",
   "execution_count": 52,
   "metadata": {},
   "outputs": [],
   "source": []
  },
  {
   "cell_type": "code",
   "execution_count": 57,
   "metadata": {},
   "outputs": [
    {
     "data": {
      "text/plain": [
       "<matplotlib.image.AxesImage at 0x125767690>"
      ]
     },
     "execution_count": 57,
     "metadata": {},
     "output_type": "execute_result"
    },
    {
     "data": {
      "image/png": "[encoded data removed]",
      "text/plain": [
       "<Figure size 576x720 with 1 Axes>"
      ]
     },
     "metadata": {
      "needs_background": "light"
     },
     "output_type": "display_data"
    }
   ],
   "source": []
  },
  {
   "cell_type": "code",
   "execution_count": null,
   "metadata": {},
   "outputs": [],
   "source": []
  },
  {
   "cell_type": "code",
   "execution_count": null,
   "metadata": {},
   "outputs": [],
   "source": []
  },
  {
   "cell_type": "code",
   "execution_count": null,
   "metadata": {},
   "outputs": [],
   "source": []
  }
 ],
 "metadata": {
  "kernelspec": {
   "display_name": "Python 2",
   "language": "python",
   "name": "python2"
  },
  "language_info": {
   "codemirror_mode": {
    "name": "ipython",
    "version": 2
   },
   "file_extension": ".py",
   "mimetype": "text/x-python",
   "name": "python",
   "nbconvert_exporter": "python",
   "pygments_lexer": "ipython2",
   "version": "2.7.15"
  }
 },
 "nbformat": 4,
 "nbformat_minor": 1
}
